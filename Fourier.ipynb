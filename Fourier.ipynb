{
  "nbformat": 4,
  "nbformat_minor": 0,
  "metadata": {
    "colab": {
      "provenance": []
    },
    "kernelspec": {
      "name": "python3",
      "display_name": "Python 3"
    },
    "language_info": {
      "name": "python"
    }
  },
  "cells": [
    {
      "cell_type": "code",
      "execution_count": null,
      "metadata": {
        "id": "t42FGFA_28MC"
      },
      "outputs": [],
      "source": [
        "import sympy"
      ]
    },
    {
      "cell_type": "code",
      "source": [
        "x = sympy.symbols(\"x\")"
      ],
      "metadata": {
        "id": "RLP9tP-j3DdX"
      },
      "execution_count": null,
      "outputs": []
    },
    {
      "cell_type": "code",
      "source": [
        "f = x**2\n",
        "L=2"
      ],
      "metadata": {
        "id": "ac6tXDfI3ITg"
      },
      "execution_count": null,
      "outputs": []
    },
    {
      "cell_type": "code",
      "source": [
        "a0 = a1=sympy.integrate(f,(x,-sympy.Rational(L/2),+sympy.Rational(L/2)))*sympy.Rational(1/L)\n",
        "a0\n",
        "\n",
        "#Sympy.Rational to the L's for fractional value "
      ],
      "metadata": {
        "colab": {
          "base_uri": "https://localhost:8080/",
          "height": 51
        },
        "id": "SAMkhGNm3Pks",
        "outputId": "0964d28b-be71-4b93-fad0-f1c734dd699d"
      },
      "execution_count": null,
      "outputs": [
        {
          "output_type": "execute_result",
          "data": {
            "text/plain": [
              "1/3"
            ],
            "text/latex": "$\\displaystyle \\frac{1}{3}$"
          },
          "metadata": {},
          "execution_count": 14
        }
      ]
    },
    {
      "cell_type": "code",
      "source": [
        "a1=sympy.integrate(f*sympy.cos(2*sympy.pi*1*x/L),(x,-sympy.Rational(L,2),+sympy.Rational(L,2)))*sympy.Rational(1/L)\n",
        "a1"
      ],
      "metadata": {
        "colab": {
          "base_uri": "https://localhost:8080/",
          "height": 51
        },
        "id": "-dS3S0An4BhW",
        "outputId": "01def0e0-3c25-4759-c1a9-b9ffff2c9fb1"
      },
      "execution_count": null,
      "outputs": [
        {
          "output_type": "execute_result",
          "data": {
            "text/plain": [
              "-2/pi**2"
            ],
            "text/latex": "$\\displaystyle - \\frac{2}{\\pi^{2}}$"
          },
          "metadata": {},
          "execution_count": 15
        }
      ]
    },
    {
      "cell_type": "code",
      "source": [
        "b1=sympy.integrate(f*sympy.sin(2*sympy.pi*1*x/L),(x,-sympy.Rational(L/2),+sympy.Rational(L/2)))*sympy.Rational(1/L)\n",
        "b1"
      ],
      "metadata": {
        "colab": {
          "base_uri": "https://localhost:8080/",
          "height": 37
        },
        "id": "F_5jDSoi5SBx",
        "outputId": "d6543a29-f874-4c52-9860-8a508e01c6cb"
      },
      "execution_count": null,
      "outputs": [
        {
          "output_type": "execute_result",
          "data": {
            "text/plain": [
              "0"
            ],
            "text/latex": "$\\displaystyle 0$"
          },
          "metadata": {},
          "execution_count": 16
        }
      ]
    },
    {
      "cell_type": "code",
      "source": [
        "def GetA0(g):\n",
        "    a0 = a1=sympy.integrate(f,(x,-sympy.Rational(L/2),+sympy.Rational(L/2)))*sympy.Rational(1/L)\n",
        "    a0"
      ],
      "metadata": {
        "id": "8pCUt1YU5rhG"
      },
      "execution_count": null,
      "outputs": []
    },
    {
      "cell_type": "code",
      "source": [
        "GetA0(f)"
      ],
      "metadata": {
        "id": "tXTIVegh57zO"
      },
      "execution_count": null,
      "outputs": []
    },
    {
      "cell_type": "code",
      "source": [
        "def GetAP(g,p):\n",
        "    ap= sympy.integrate(f*sympy.cos(2*sympy.pi*1*x/L),(x,-sympy.Rational(L,2),+sympy.Rational(L,2)))*sympy.Rational(1/L)\n",
        "    ap"
      ],
      "metadata": {
        "id": "_9sCZlwv6PsE"
      },
      "execution_count": null,
      "outputs": []
    },
    {
      "cell_type": "code",
      "source": [
        "def GetAP(g,p):\n",
        "    bp= sympy.integrate(f*sympy.sin(2*sympy.pi*1*x/L),(x,-sympy.Rational(L,2),+sympy.Rational(L,2)))*sympy.Rational(1/L)\n",
        "    bp"
      ],
      "metadata": {
        "id": "EDz_qCWP7KU3"
      },
      "execution_count": null,
      "outputs": []
    },
    {
      "cell_type": "code",
      "source": [
        "import sympy\n",
        "x= sympy.symbols(\"x\")\n",
        "L=2\n",
        "\n",
        "\n",
        "#############################\n",
        "def GetA0(g):\n",
        "    a0 = a1=sympy.integrate(f,(x,-sympy.Rational(L/2),+sympy.Rational(L/2)))*sympy.Rational(1/L)\n",
        "    a0\n",
        "\n",
        "\n",
        "\n",
        "################################\n",
        "def GetAP(g,p):\n",
        "    ap= sympy.integrate(f*sympy.cos(2*sympy.pi*1*x/L),(x,-sympy.Rational(L,2),+sympy.Rational(L,2)))*sympy.Rational(1/L)\n",
        "    ap\n",
        "\n",
        "###################################\n",
        "\n",
        "def GetAP(g,p):\n",
        "    bp= sympy.integrate(f*sympy.sin(2*sympy.pi*1*x/L),(x,-sympy.Rational(L,2),+sympy.Rational(L,2)))*sympy.Rational(1/L)\n",
        "    bp\n",
        "\n",
        "\n",
        "\n",
        "def GetFourier(f,n):\n",
        "    total = GetA0(f)\n",
        "\n",
        "    for i in range(1,n+1):\n",
        "      total= total + GetAP(f,i)*sympy.cos(2*sympy.pi*i*x/L)\n",
        "      total= total + GetBP(f,i)*sympy.sin(2*sympy.pi*i*x/L)"
      ],
      "metadata": {
        "id": "b6EybBDU68Wo"
      },
      "execution_count": null,
      "outputs": []
    },
    {
      "cell_type": "code",
      "source": [
        "f=x**2\n",
        "display(GetA0(f))\n",
        "\n",
        "for i in range(1,6):\n",
        "  display(GetAP(f,i))"
      ],
      "metadata": {
        "colab": {
          "base_uri": "https://localhost:8080/",
          "height": 124
        },
        "id": "B2rHPHUB73T-",
        "outputId": "b28ab4ad-8286-4edf-ffd5-812e9edb0db9"
      },
      "execution_count": null,
      "outputs": [
        {
          "output_type": "display_data",
          "data": {
            "text/plain": [
              "None"
            ]
          },
          "metadata": {}
        },
        {
          "output_type": "display_data",
          "data": {
            "text/plain": [
              "None"
            ]
          },
          "metadata": {}
        },
        {
          "output_type": "display_data",
          "data": {
            "text/plain": [
              "None"
            ]
          },
          "metadata": {}
        },
        {
          "output_type": "display_data",
          "data": {
            "text/plain": [
              "None"
            ]
          },
          "metadata": {}
        },
        {
          "output_type": "display_data",
          "data": {
            "text/plain": [
              "None"
            ]
          },
          "metadata": {}
        },
        {
          "output_type": "display_data",
          "data": {
            "text/plain": [
              "None"
            ]
          },
          "metadata": {}
        }
      ]
    }
  ]
}